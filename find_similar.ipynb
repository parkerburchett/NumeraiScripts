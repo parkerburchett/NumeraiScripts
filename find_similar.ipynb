{
 "cells": [
  {
   "cell_type": "code",
   "execution_count": 38,
   "metadata": {},
   "outputs": [],
   "source": [
    "import numerapi\r\n",
    "import requests\r\n",
    "import numpy as np\r\n",
    "import pandas as pd\r\n",
    "import matplotlib.pyplot as plt\r\n",
    "\r\n",
    "#look at the /look_back_rounds/ most recent rounds and compute distance squared from your model for correlation vectors, find the lowest distance between your model and another in the top \\leaderboard_count\\ models excluding any \\banned_models\\\r\n",
    "leaderboard_count = 25\r\n",
    "look_back_rounds = 6  # number of rounds to consider in the past. \r\n",
    "my_model = \"mrquantsalot\"\r\n",
    "banned_models = [\"tutmodel\"]\r\n",
    "CURRENT_ROUND = numerapi.NumerAPI().get_current_round()"
   ]
  },
  {
   "cell_type": "code",
   "execution_count": 21,
   "metadata": {},
   "outputs": [],
   "source": [
    "def get_user_latest_round_corr_scores(username:str)-> np.array:\r\n",
    "    \"\"\"\r\n",
    "        Returns a list of round Corr scores for this user. \r\n",
    "        Scores at the top of the list are the most recent.\r\n",
    "    \"\"\"\r\n",
    "    request_text  = \"https://api-tournament.numer.ai/?query={v2UserProfile(username:\\\"\"+ username +\"\\\"){latestRoundPerformances{correlation}}}\"\r\n",
    "    list_of_corr_dicts =  requests.get(request_text).json()['data']['v2UserProfile']['latestRoundPerformances']\r\n",
    "\r\n",
    "    corr_scores = [round_dict[\"correlation\"] for round_dict in list_of_corr_dicts]\r\n",
    "    corr_scores.reverse()\r\n",
    "\r\n",
    "    return np.array(corr_scores)"
   ]
  },
  {
   "cell_type": "code",
   "execution_count": 13,
   "metadata": {},
   "outputs": [
    {
     "name": "stdout",
     "output_type": "stream",
     "text": [
      "benben11\n"
     ]
    },
    {
     "ename": "TypeError",
     "evalue": "unsupported operand type(s) for -: 'float' and 'NoneType'",
     "output_type": "error",
     "traceback": [
      "\u001b[1;31m---------------------------------------------------------------------------\u001b[0m",
      "\u001b[1;31mTypeError\u001b[0m                                 Traceback (most recent call last)",
      "\u001b[1;32m<ipython-input-13-5eeec07a0b3f>\u001b[0m in \u001b[0;36m<module>\u001b[1;34m\u001b[0m\n\u001b[0;32m     16\u001b[0m         \u001b[1;32mif\u001b[0m\u001b[1;33m(\u001b[0m\u001b[0mother\u001b[0m \u001b[1;33m==\u001b[0m \u001b[1;32mNone\u001b[0m\u001b[1;33m)\u001b[0m\u001b[1;33m:\u001b[0m\u001b[1;33m\u001b[0m\u001b[1;33m\u001b[0m\u001b[0m\n\u001b[0;32m     17\u001b[0m             \u001b[0mother\u001b[0m \u001b[1;33m=\u001b[0m \u001b[1;36m1000\u001b[0m\u001b[1;33m\u001b[0m\u001b[1;33m\u001b[0m\u001b[0m\n\u001b[1;32m---> 18\u001b[1;33m         \u001b[0mdistance_square\u001b[0m \u001b[1;33m+=\u001b[0m \u001b[1;33m(\u001b[0m\u001b[0mother\u001b[0m \u001b[1;33m-\u001b[0m \u001b[0mresponseModel\u001b[0m\u001b[1;33m[\u001b[0m\u001b[1;33m-\u001b[0m\u001b[1;36m1\u001b[0m\u001b[1;33m-\u001b[0m\u001b[0mi\u001b[0m\u001b[1;33m]\u001b[0m\u001b[1;33m[\u001b[0m\u001b[1;34m\"correlation\"\u001b[0m\u001b[1;33m]\u001b[0m\u001b[1;33m)\u001b[0m\u001b[1;33m**\u001b[0m\u001b[1;36m2\u001b[0m\u001b[1;33m\u001b[0m\u001b[1;33m\u001b[0m\u001b[0m\n\u001b[0m\u001b[0;32m     19\u001b[0m     \u001b[1;32mif\u001b[0m \u001b[0mdistance_square\u001b[0m \u001b[1;33m<\u001b[0m \u001b[0mlowest_square_distance_value\u001b[0m\u001b[1;33m:\u001b[0m\u001b[1;33m\u001b[0m\u001b[1;33m\u001b[0m\u001b[0m\n\u001b[0;32m     20\u001b[0m         \u001b[0mlowest_square_distance_value\u001b[0m \u001b[1;33m=\u001b[0m \u001b[0mdistance_square\u001b[0m\u001b[1;33m\u001b[0m\u001b[1;33m\u001b[0m\u001b[0m\n",
      "\u001b[1;31mTypeError\u001b[0m: unsupported operand type(s) for -: 'float' and 'NoneType'"
     ]
    }
   ],
   "source": [
    "lowest_square_distance_name = numerapi.NumerAPI().get_leaderboard(1)[0][\"username\"] # get the username of the person on top of the leaderboard\r\n",
    "lowest_square_distance_value = 1000000000000000000000000000\r\n",
    "print(lowest_square_distance_name)\r\n",
    "responseModel = requests.get(\"https://api-tournament.numer.ai/?query={v2UserProfile(username:\\\"\"+ model +\"\\\"){latestRoundPerformances{correlation}}}\").json()['data']['v2UserProfile']['latestRoundPerformances']\r\n",
    "for user in numerapi.NumerAPI().get_leaderboard(leaderboard_count):\r\n",
    "    \r\n",
    "    if(user[\"username\"] in banned_models): # exclude other version of your own models.\r\n",
    "        continue\r\n",
    "    distance_square = 0\r\n",
    "    response = requests.get(\"https://api-tournament.numer.ai/?query={v2UserProfile(username:\\\"\"+ user[\"username\"] +\"\\\"){latestRoundPerformances{correlation}}}\").json()['data']['v2UserProfile']['latestRoundPerformances']\r\n",
    "    #print(f'The response back was {response}\\n\\n')\r\n",
    "\r\n",
    "    # response is a dictionary of all final  corrilation scores.\r\n",
    "    for i in range(look_back_rounds): # you only want to look back at a fixed number of  rounds.\r\n",
    "        other = response[-1 - i][\"correlation\"]\r\n",
    "        if(other == None): \r\n",
    "            other = 1000\r\n",
    "        distance_square += (other - responseModel[-1-i][\"correlation\"])**2\r\n",
    "    if distance_square < lowest_square_distance_value:\r\n",
    "        lowest_square_distance_value = distance_square\r\n",
    "        lowest_square_distance_name = user[\"username\"]\r\n",
    "\r\n"
   ]
  },
  {
   "cell_type": "code",
   "execution_count": 4,
   "metadata": {},
   "outputs": [
    {
     "ename": "NameError",
     "evalue": "name 'lowest_square_distance_name' is not defined",
     "output_type": "error",
     "traceback": [
      "\u001b[1;31m---------------------------------------------------------------------------\u001b[0m",
      "\u001b[1;31mNameError\u001b[0m                                 Traceback (most recent call last)",
      "\u001b[1;32m<ipython-input-4-7441312667cb>\u001b[0m in \u001b[0;36m<module>\u001b[1;34m\u001b[0m\n\u001b[1;32m----> 1\u001b[1;33m \u001b[0mprint\u001b[0m\u001b[1;33m(\u001b[0m\u001b[0mlowest_square_distance_name\u001b[0m\u001b[1;33m,\u001b[0m\u001b[0mlowest_square_distance_value\u001b[0m\u001b[1;33m)\u001b[0m\u001b[1;33m\u001b[0m\u001b[1;33m\u001b[0m\u001b[0m\n\u001b[0m",
      "\u001b[1;31mNameError\u001b[0m: name 'lowest_square_distance_name' is not defined"
     ]
    }
   ],
   "source": [
    "print(lowest_square_distance_name,lowest_square_distance_value)\r\n"
   ]
  },
  {
   "cell_type": "code",
   "execution_count": 2,
   "metadata": {},
   "outputs": [],
   "source": [
    "\r\n"
   ]
  },
  {
   "cell_type": "code",
   "execution_count": 48,
   "metadata": {},
   "outputs": [
    {
     "data": {
      "image/png": "[encoded data removed]",
      "text/plain": "<Figure size 432x288 with 1 Axes>"
     },
     "metadata": {
      "needs_background": "light"
     },
     "output_type": "display_data"
    }
   ],
   "source": [
    "lowest_square_distance_name = 'nescience'\r\n",
    "\r\n",
    "def create_your_other_user_scores_df(other_user, you_username):\r\n",
    "    most_similar_user_scores = get_user_latest_round_corr_scores(other_user)\r\n",
    "    my_scores =  get_user_latest_round_corr_scores(username=you_username)\r\n",
    "\r\n",
    "    rounds_in_consideration = [num_round for num_round in range(CURRENT_ROUND-1, (CURRENT_ROUND-1 - look_back_rounds), -1)]\r\n",
    "    rounds_in_consideration = np.array(rounds_in_consideration)\r\n",
    "\r\n",
    "    df = pd.DataFrame(  {\r\n",
    "                       'round_number' :rounds_in_consideration,\r\n",
    "                       'similar_user_scores': most_similar_user_scores[:look_back_rounds],\r\n",
    "                       'your_scores' : my_scores[:look_back_rounds]\r\n",
    "                        })\r\n",
    "    \r\n",
    "    return df, rounds_in_consideration\r\n",
    "\r\n",
    "\r\n",
    "\r\n",
    "def create_line_plot_of_scores(df, round_in_consideration):\r\n",
    "    plt.plot(rounds_in_consideration,df['similar_user_scores'], label=lowest_square_distance_name)\r\n",
    "    plt.plot(rounds_in_consideration,df['your_scores'], label=my_model)\r\n",
    "    plt.ylabel('Round COOR scores')\r\n",
    "    plt.xlabel('Round Number')\r\n",
    "    plt.legend()\r\n",
    "    plt.show()\r\n",
    "\r\n",
    "df, rounds_in_consideration = create_your_other_user_scores_df(lowest_square_distance_name,my_model)\r\n",
    "create_line_plot_of_scores(df,rounds_in_consideration)"
   ]
  },
  {
   "cell_type": "markdown",
   "metadata": {},
   "source": [
    "### For me, swagbot is the most similar. \r\n"
   ]
  }
 ],
 "metadata": {
  "kernelspec": {
   "display_name": "Python 3.8.3 64-bit ('flask_program': conda)",
   "name": "python383jvsc74a57bd0dd8651ccd8409a0bef7a44cb2e2575b0c1d32f8c24ba3ddcee5a1054a712ef8f"
  },
  "language_info": {
   "codemirror_mode": {
    "name": "ipython",
    "version": 3
   },
   "file_extension": ".py",
   "mimetype": "text/x-python",
   "name": "python",
   "nbconvert_exporter": "python",
   "pygments_lexer": "ipython3",
   "version": "3.8.3"
  },
  "metadata": {
   "interpreter": {
    "hash": "1baa965d5efe3ac65b79dfc60c0d706280b1da80fedb7760faf2759126c4f253"
   }
  },
  "orig_nbformat": 2
 },
 "nbformat": 4,
 "nbformat_minor": 2
}