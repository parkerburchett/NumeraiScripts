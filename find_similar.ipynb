{
 "cells": [
  {
   "cell_type": "code",
   "execution_count": 26,
   "metadata": {},
   "outputs": [
    {
     "name": "stdout",
     "output_type": "stream",
     "text": [
      "Requirement already satisfied: numerapi in c:\\users\\parke\\anaconda3\\envs\\flask_program\\lib\\site-packages (2.4.5)\n",
      "Requirement already satisfied: tqdm>=4.29.1 in c:\\users\\parke\\anaconda3\\envs\\flask_program\\lib\\site-packages (from numerapi) (4.55.0)\n",
      "Requirement already satisfied: pytz in c:\\users\\parke\\anaconda3\\envs\\flask_program\\lib\\site-packages (from numerapi) (2020.5)\n",
      "Requirement already satisfied: requests in c:\\users\\parke\\anaconda3\\envs\\flask_program\\lib\\site-packages (from numerapi) (2.25.1)\n",
      "Requirement already satisfied: python-dateutil in c:\\users\\parke\\anaconda3\\envs\\flask_program\\lib\\site-packages (from numerapi) (2.8.1)\n",
      "Requirement already satisfied: click>=7.0 in c:\\users\\parke\\anaconda3\\envs\\flask_program\\lib\\site-packages (from numerapi) (7.1.2)\n",
      "Requirement already satisfied: six>=1.5 in c:\\users\\parke\\anaconda3\\envs\\flask_program\\lib\\site-packages (from python-dateutil->numerapi) (1.15.0)\n",
      "Requirement already satisfied: certifi>=2017.4.17 in c:\\users\\parke\\anaconda3\\envs\\flask_program\\lib\\site-packages (from requests->numerapi) (2020.12.5)\n",
      "Requirement already satisfied: urllib3<1.27,>=1.21.1 in c:\\users\\parke\\anaconda3\\envs\\flask_program\\lib\\site-packages (from requests->numerapi) (1.26.2)\n",
      "Requirement already satisfied: chardet<5,>=3.0.2 in c:\\users\\parke\\anaconda3\\envs\\flask_program\\lib\\site-packages (from requests->numerapi) (4.0.0)\n",
      "Requirement already satisfied: idna<3,>=2.5 in c:\\users\\parke\\anaconda3\\envs\\flask_program\\lib\\site-packages (from requests->numerapi) (2.10)\n"
     ]
    },
    {
     "data": {
      "text/plain": "260"
     },
     "execution_count": 26,
     "metadata": {},
     "output_type": "execute_result"
    }
   ],
   "source": [
    "!pip install numerapi\r\n",
    "\r\n",
    "import numerapi\r\n",
    "import requests\r\n",
    "\r\n",
    "#look at the /look_back_rounds/ most recent rounds and compute distance squared from your model for correlation vectors, find the lowest distance between your model and another in the top \\leaderboard_count\\ models excluding any \\banned_models\\\r\n",
    "leaderboard_count = 25\r\n",
    "look_back_rounds = 6  # number of rounds to consider in the past. \r\n",
    "model = \"mrquantsalot\"\r\n",
    "banned_models = [\"tutmodel\"]\r\n",
    "CURRENT_ROUND = numerapi.NumerAPI().get_current_round()\r\n",
    "CURRENT_ROUND"
   ]
  },
  {
   "cell_type": "code",
   "execution_count": 12,
   "metadata": {},
   "outputs": [
    {
     "name": "stdout",
     "output_type": "stream",
     "text": [
      "benben11\n"
     ]
    }
   ],
   "source": [
    "lowest_square_distance_name = numerapi.NumerAPI().get_leaderboard(1)[0][\"username\"] # get the username of the person on top of the leaderboard\r\n",
    "lowest_square_distance_value = 1000000000000000000000000000\r\n",
    "print(lowest_square_distance_name)\r\n",
    "responseModel = requests.get(\"https://api-tournament.numer.ai/?query={v2UserProfile(username:\\\"\"+ model +\"\\\"){latestRoundPerformances{correlation}}}\").json()['data']['v2UserProfile']['latestRoundPerformances']\r\n",
    "for user in numerapi.NumerAPI().get_leaderboard(leaderboard_count):\r\n",
    "    \r\n",
    "    if(user[\"username\"] in banned_models): # exclude other version of your own models.\r\n",
    "        continue\r\n",
    "    distance_square = 0\r\n",
    "    response = requests.get(\"https://api-tournament.numer.ai/?query={v2UserProfile(username:\\\"\"+ user[\"username\"] +\"\\\"){latestRoundPerformances{correlation}}}\").json()['data']['v2UserProfile']['latestRoundPerformances']\r\n",
    "    #print(f'The response back was {response}\\n\\n')\r\n",
    "\r\n",
    "    # response is a dictionary of all final  corrilation scores.\r\n",
    "    for i in range(look_back_rounds): # you only want to look back at a fixed number of  rounds.\r\n",
    "        other = response[-1 - i][\"correlation\"]\r\n",
    "        if(other == None): \r\n",
    "            other = 1000\r\n",
    "        distance_square += (other - responseModel[-1-i][\"correlation\"])**2\r\n",
    "    if distance_square < lowest_square_distance_value:\r\n",
    "        lowest_square_distance_value = distance_square\r\n",
    "        lowest_square_distance_name = user[\"username\"]\r\n",
    "\r\n"
   ]
  },
  {
   "cell_type": "code",
   "execution_count": 13,
   "metadata": {},
   "outputs": [
    {
     "name": "stdout",
     "output_type": "stream",
     "text": [
      "swagbot 5.156174322840639e-05\n"
     ]
    }
   ],
   "source": [
    "print(lowest_square_distance_name,lowest_square_distance_value)\r\n"
   ]
  },
  {
   "cell_type": "code",
   "execution_count": 42,
   "metadata": {},
   "outputs": [],
   "source": [
    "def get_user_latest_round_corr_scores(username:str)-> list:\r\n",
    "    \"\"\"\r\n",
    "        Returns a list of round Corr scores for this user. \r\n",
    "        Scores at the top of the list are the most recent.\r\n",
    "    \"\"\"\r\n",
    "    request_text  = \"https://api-tournament.numer.ai/?query={v2UserProfile(username:\\\"\"+ username +\"\\\"){latestRoundPerformances{correlation}}}\"\r\n",
    "    list_of_corr_dicts =  requests.get(request_text).json()['data']['v2UserProfile']['latestRoundPerformances']\r\n",
    "\r\n",
    "    corr_scores = [round_dict[\"correlation\"] for round_dict in list_of_corr_dicts]\r\n",
    "    corr_scores.reverse()\r\n",
    "    print(corr_scores)\r\n",
    "    return corr_scores\r\n"
   ]
  },
  {
   "cell_type": "code",
   "execution_count": 43,
   "metadata": {},
   "outputs": [
    {
     "name": "stdout",
     "output_type": "stream",
     "text": [
      "[0.05960788201779835, 0.10506611869555502, 0.1437066194482835, 0.09335279055604896, 0.09457006890109564, 0.11959658713320859, 0.03637778503359938, 0.04800585036056005, 0.062371122364806644, 0.05236786488059927, 0.02514599694277168, 0.016292286235530806, 0.0440133280498412, 0.059611988992646914, 0.07308720369800675, 0.08037080289793119, 0.027591161558803107, 0.036003257105066105, 0.024515240872471363, 0.025129182467721962, 0.03442093577035844, 0.03974336140500681, 0.028280454350030848, 0.0014544454340851363, 0.008329445872286158, -0.02624650179922823, -0.018019583000269738, 0.01049327919576607, 0.0187032507991788, 0.0414906223546404, 0.07766420379026559, 0.04143808153802093, 0.04275472893192207, -0.011482166004588503, -0.03525084908697516, -0.04260852671533744, -0.04116063788709864, -0.025163407283132506, -0.014969872049691075, -0.02600604291006388, -0.022803950512027663, -0.029553890891575063, 0.024009130558976497, 0.023269802710532257, 0.060650100267921926, 0.062315155842513716, 0.06664463715099743, 0.04119427361171357, 0.03178880980140306, 0.050425767880361315, 0.062326697456009335, 0.034238171643150614, 0.08307640443273319, 0.08375184937288983, 0.10195224448344163, None, 0.06456043318401873, -0.009966789634891662, -0.01053813459103114, 0.017296081422287186, 1.5573115169225639e-06, -0.03132867225971329, -0.036633278149280905, -0.052103815414616714, -0.03513525246568629, -0.005819422763125471, 0.021661949098050283, 0.0232050934005364, 0.007216371463672852, 0.04645968853393654, 0.01080741585632044, 0.018786030145814286, 0.025560648700760517, 0.011079641318467134, 0.015745413131081427, 0.015044649731446905, 0.034676715110171986, 0.024902620023511284, -0.025850651161450522, -0.025972322089733414, -0.010145789245179376, -0.04217843321819373, -0.010229991509644385, 0.032891970017663724, 0.014833974038634987, 0.028260583891008214, None, None, None, None, None, None]\n",
      "[0.06307812949238831, 0.10957454652338326, 0.142814115348805, 0.09658050195577425, 0.09739469626895671, None, 0.012181526591327334, None, None, None, None, None, None, None, None, None, None, None, None, None, None, None, None, None, None, None, None, None, None, None, None, None, None, None, None, None, None, None, None, None, None, None, None, None, None, None, None, None, None, None, None, None, None, None, None, None, None, None, None, None, None, None, None, None, None, None, None, None, None, None, None, None, None, None, None, None, None, None, None, None, None, None, None, None, None, None, None, None, None, None, None, None]\n"
     ]
    },
    {
     "data": {
      "text/plain": "dict"
     },
     "execution_count": 43,
     "metadata": {},
     "output_type": "execute_result"
    }
   ],
   "source": [
    "import matplotlib.pyplot as plt\r\n",
    "x = []\r\n",
    "y1 = []\r\n",
    "y2 = []\r\n",
    "most_similar_user_scores = get_user_latest_round_corr_scores(lowest_square_distance_name)\r\n",
    "model_scores =  get_user_latest_round_corr_scores(username=model)\r\n",
    "\r\n",
    "round_in_consideration = [num_round for num_round in range(CURRENT_ROUND, (CURRENT_ROUND - look_back_rounds), -1)]\r\n",
    "round_in_consideration.reverse()\r\n",
    "round_in_consideration\r\n",
    "\r\n",
    "type(responseA[0])\r\n",
    "\r\n",
    "# #x axis is round nubmers\r\n",
    "# for i in range(CURRENT_ROUND, (CURRENT_ROUND - look_back_rounds), -1):\r\n",
    "#     y1.append(responseA[CURRENT_ROUND - i][\"correlation\"])\r\n",
    "#     print(y1[-1])\r\n",
    "#     y2.append(responseB[-1 - i][\"correlation\"])\r\n",
    "# plt.plot(x,y1)\r\n",
    "# plt.ion()\r\n",
    "# plt.plot(x,y2)\r\n",
    "\r\n",
    "\r\n",
    "# to refactor:\r\n",
    "# add chart title and axisises.\r\n"
   ]
  },
  {
   "cell_type": "markdown",
   "metadata": {},
   "source": [
    "### For me, swagbot is the most similar. \r\n"
   ]
  }
 ],
 "metadata": {
  "kernelspec": {
   "display_name": "Python 3.8.3 64-bit ('flask_program': conda)",
   "name": "python383jvsc74a57bd0dd8651ccd8409a0bef7a44cb2e2575b0c1d32f8c24ba3ddcee5a1054a712ef8f"
  },
  "language_info": {
   "codemirror_mode": {
    "name": "ipython",
    "version": 3
   },
   "file_extension": ".py",
   "mimetype": "text/x-python",
   "name": "python",
   "nbconvert_exporter": "python",
   "pygments_lexer": "ipython3",
   "version": "3.8.3"
  },
  "metadata": {
   "interpreter": {
    "hash": "1baa965d5efe3ac65b79dfc60c0d706280b1da80fedb7760faf2759126c4f253"
   }
  },
  "orig_nbformat": 2
 },
 "nbformat": 4,
 "nbformat_minor": 2
}